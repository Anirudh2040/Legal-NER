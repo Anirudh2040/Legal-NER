{
  "cells": [
    
    {
      "cell_type": "code",
      "execution_count": null,
      "metadata": {
        "colab": {
          "base_uri": "https://localhost:8080/"
        },
        "id": "vy-V0W3VZs6l",
        "outputId": "7d55a1c9-9547-45f5-bfa8-2790d867f113"
      },
      "outputs": [
        {
          "output_type": "stream",
          "name": "stdout",
          "text": [
            "Drive already mounted at /content/drive; to attempt to forcibly remount, call drive.mount(\"/content/drive\", force_remount=True).\n"
          ]
        }
      ],
      "source": [
        "from google.colab import drive\n",
        "drive.mount('/content/drive')"
      ]
    },
    {
      "cell_type": "code",
      "execution_count": null,
      "metadata": {
        "id": "7LrlO5dR5tlp"
      },
      "outputs": [],
      "source": [
        "import matplotlib.pyplot as plt\n",
        "import pandas as pd\n",
        "import numpy as np\n",
        "import json\n",
        "import re\n",
        "import csv\n",
        "\n",
        "from sklearn.model_selection import train_test_split\n",
        "import tensorflow as tf\n",
        "from tensorflow.keras.layers import Dense, Input, Dropout\n",
        "from tensorflow.keras.callbacks import EarlyStopping\n",
        "from tensorflow.keras.models import Sequential, Model, load_model\n",
        "from tensorflow.keras.optimizers import Adam\n"
      ]
    },
    {
      "cell_type": "code",
      "execution_count": null,
      "metadata": {
        "colab": {
          "base_uri": "https://localhost:8080/"
        },
        "id": "yUooSDJANt9u",
        "outputId": "9077c4da-f131-4f48-dc93-2d10482ecdc6"
      },
      "outputs": [
        {
          "output_type": "stream",
          "name": "stdout",
          "text": [
            "Requirement already satisfied: transformers in /usr/local/lib/python3.10/dist-packages (4.40.1)\n",
            "Requirement already satisfied: filelock in /usr/local/lib/python3.10/dist-packages (from transformers) (3.13.4)\n",
            "Requirement already satisfied: huggingface-hub<1.0,>=0.19.3 in /usr/local/lib/python3.10/dist-packages (from transformers) (0.20.3)\n",
            "Requirement already satisfied: numpy>=1.17 in /usr/local/lib/python3.10/dist-packages (from transformers) (1.25.2)\n",
            "Requirement already satisfied: packaging>=20.0 in /usr/local/lib/python3.10/dist-packages (from transformers) (24.0)\n",
            "Requirement already satisfied: pyyaml>=5.1 in /usr/local/lib/python3.10/dist-packages (from transformers) (6.0.1)\n",
            "Requirement already satisfied: regex!=2019.12.17 in /usr/local/lib/python3.10/dist-packages (from transformers) (2023.12.25)\n",
            "Requirement already satisfied: requests in /usr/local/lib/python3.10/dist-packages (from transformers) (2.31.0)\n",
            "Requirement already satisfied: tokenizers<0.20,>=0.19 in /usr/local/lib/python3.10/dist-packages (from transformers) (0.19.1)\n",
            "Requirement already satisfied: safetensors>=0.4.1 in /usr/local/lib/python3.10/dist-packages (from transformers) (0.4.3)\n",
            "Requirement already satisfied: tqdm>=4.27 in /usr/local/lib/python3.10/dist-packages (from transformers) (4.66.2)\n",
            "Requirement already satisfied: fsspec>=2023.5.0 in /usr/local/lib/python3.10/dist-packages (from huggingface-hub<1.0,>=0.19.3->transformers) (2023.6.0)\n",
            "Requirement already satisfied: typing-extensions>=3.7.4.3 in /usr/local/lib/python3.10/dist-packages (from huggingface-hub<1.0,>=0.19.3->transformers) (4.11.0)\n",
            "Requirement already satisfied: charset-normalizer<4,>=2 in /usr/local/lib/python3.10/dist-packages (from requests->transformers) (3.3.2)\n",
            "Requirement already satisfied: idna<4,>=2.5 in /usr/local/lib/python3.10/dist-packages (from requests->transformers) (3.7)\n",
            "Requirement already satisfied: urllib3<3,>=1.21.1 in /usr/local/lib/python3.10/dist-packages (from requests->transformers) (2.0.7)\n",
            "Requirement already satisfied: certifi>=2017.4.17 in /usr/local/lib/python3.10/dist-packages (from requests->transformers) (2024.2.2)\n"
          ]
        }
      ],
      "source": [
        "!pip install transformers"
      ]
    },
    {
      "cell_type": "code",
      "execution_count": null,
      "metadata": {
        "colab": {
          "base_uri": "https://localhost:8080/"
        },
        "id": "Dw7DxkLZN-Rv",
        "outputId": "bebb7e7a-f849-4603-ae18-49079a621b06"
      },
      "outputs": [
        {
          "output_type": "stream",
          "name": "stdout",
          "text": [
            "No GPU available, using the CPU instead.\n"
          ]
        }
      ],
      "source": [
        "import torch\n",
        "\n",
        "# If there's a GPU available...\n",
        "if torch.cuda.is_available():\n",
        "\n",
        "    # Tell PyTorch to use the GPU.\n",
        "    device = torch.device(\"cuda\")\n",
        "\n",
        "    print('There are %d GPU(s) available.' % torch.cuda.device_count())\n",
        "\n",
        "    print('We will use the GPU:', torch.cuda.get_device_name(0))\n",
        "\n",
        "# If not...\n",
        "else:\n",
        "    print('No GPU available, using the CPU instead.')\n",
        "    device = torch.device(\"cpu\")"
      ]
    },
    {
      "cell_type": "code",
      "execution_count": null,
      "metadata": {
        "id": "hhGyWHeyNx-h"
      },
      "outputs": [],
      "source": [
        "from transformers import AutoTokenizer, AutoModel\n",
        "tokenizer = AutoTokenizer.from_pretrained(\"law-ai/InLegalBert\")\n",
        "bert_model = AutoModel.from_pretrained(\"law-ai/InLegalBert\",output_hidden_states=True)\n",
        "# bert_model = bert_model.to('cuda')\n",
        "\n",
        "from transformers import AutoTokenizer, AutoModelForPreTraining\n",
        "\n",
        "# tokenizer = AutoTokenizer.from_pretrained(\"nlpaueb/legal-bert-base-uncased\")\n",
        "# bert_model = AutoModelForPreTraining.from_pretrained(\"nlpaueb/legal-bert-base-uncased\")\n",
        "# bert_model = bert_model.to('cuda')"
      ]
    },
    {
      "cell_type": "code",
      "execution_count": null,
      "metadata": {
        "colab": {
          "base_uri": "https://localhost:8080/"
        },
        "id": "zycsIFJLEd-I",
        "outputId": "97ecb8ea-3eff-4dce-a844-cdcd6504d5fb"
      },
      "outputs": [
        {
          "output_type": "stream",
          "name": "stdout",
          "text": [
            "Total training samples provided by the organizers:  9435\n",
            "After cleaning, total number of samples in training data (documentwise):  7258\n",
            "After cleaning, total number of labels in training data (documentwise):  7258\n",
            "Total number of sentences in training data:  17485\n",
            "Total number of labels in the training data:  17485\n"
          ]
        }
      ],
      "source": [
        "f = open(\"/content/drive/MyDrive/LegalNERDatasets/NER_TRAIN/NER_TRAIN_JUDGEMENT.json\")\n",
        "\n",
        "data = json.load(f)\n",
        "print(\"Total training samples provided by the organizers: \", len(data))\n",
        "\n",
        "AllText=[]\n",
        "for i in range(len(data)):\n",
        "    TempText=[]\n",
        "    if len(data[i]['annotations'][0]['result'])!=0:\n",
        "\n",
        "        for j in range(len(data[i]['annotations'][0]['result'])):\n",
        "            TempText.append(data[i]['annotations'][0]['result'][j]['value']['text'])\n",
        "        AllText.append(TempText)\n",
        "\n",
        "\n",
        "CleanedText=[]\n",
        "for i in range(len(AllText)):\n",
        "    TempCleanedText=[]\n",
        "    for j in range(len(AllText[i])):\n",
        "        AllText[i][j]=AllText[i][j].replace(\"\\n\",\" \")\n",
        "        AllText[i][j]=re.sub('\\s+',' ',AllText[i][j])\n",
        "        AllText[i][j]=AllText[i][j].lower()\n",
        "        TempCleanedText.append(AllText[i][j])\n",
        "    CleanedText.append(TempCleanedText)\n",
        "print(\"After cleaning, total number of samples in training data (documentwise): \", len(CleanedText))\n",
        "\n",
        "AllLabels=[]\n",
        "for i in range(len(data)):\n",
        "    TempLabels=[]\n",
        "    if len(data[i]['annotations'][0]['result'])!=0:\n",
        "        for j in range(len(data[i]['annotations'][0]['result'])):\n",
        "            TempLabels.append(data[i]['annotations'][0]['result'][j]['value']['labels'][0])\n",
        "        AllLabels.append(TempLabels)\n",
        "\n",
        "for i in range(len(AllLabels)):\n",
        "    for j in range(len(AllLabels[i])):\n",
        "        AllLabels[i][j]=AllLabels[i][j].lower()\n",
        "print(\"After cleaning, total number of labels in training data (documentwise): \", len(AllLabels))\n",
        "\n",
        "SentwiseCleanedText=[]\n",
        "for i in range(len(CleanedText)):\n",
        "  for j in range(len(CleanedText[i])):\n",
        "      SentwiseCleanedText.append(CleanedText[i][j])\n",
        "\n",
        "SentwiseLabels=[]\n",
        "for i in range(len(AllLabels)):\n",
        "  for j in range(len(AllLabels[i])):\n",
        "      SentwiseLabels.append(AllLabels[i][j])\n",
        "\n",
        "print(\"Total number of sentences in training data: \", len(SentwiseCleanedText))\n",
        "print(\"Total number of labels in the training data: \", len(SentwiseLabels))"
      ]
    },
    {
      "cell_type": "code",
      "execution_count": null,
      "metadata": {
        "colab": {
          "base_uri": "https://localhost:8080/"
        },
        "id": "G9JuJ2INvmnS",
        "outputId": "c58f7668-3884-4c30-d9ae-475984df93bf"
      },
      "outputs": [
        {
          "output_type": "stream",
          "name": "stdout",
          "text": [
            "Total validation samples provided by the organizers:  949\n",
            "After cleaning, total number of samples in validation data (documentwise):  949\n",
            "After cleaning, total number of labels in validation data (documentwise):  949\n",
            "Total number of sentences in Validation data:  1876\n",
            "Total number of labels in validation data:  1876\n"
          ]
        }
      ],
      "source": [
        "f = open(\"/content/drive/MyDrive/LegalNERDatasets/NER_DEV/NER_DEV_JUDGEMENT.json\")\n",
        "\n",
        "val_data = json.load(f)\n",
        "print(\"Total validation samples provided by the organizers: \", len(val_data))\n",
        "\n",
        "DevText=[]\n",
        "for i in range(len(val_data)):\n",
        "    TempText=[]\n",
        "    for j in range(len(val_data[i]['annotations'][0]['result'])):\n",
        "        TempText.append(val_data[i]['annotations'][0]['result'][j]['value']['text'])\n",
        "    DevText.append(TempText)\n",
        "\n",
        "\n",
        "CleanedDevText=[]\n",
        "for i in range(len(DevText)):\n",
        "    TempCleanedText=[]\n",
        "    for j in range(len(DevText[i])):\n",
        "        DevText[i][j]=DevText[i][j].replace(\"\\n\",\" \")\n",
        "        DevText[i][j]=re.sub('\\s+',' ',DevText[i][j])\n",
        "        DevText[i][j]=DevText[i][j].lower()\n",
        "        TempCleanedText.append(DevText[i][j])\n",
        "    CleanedDevText.append(TempCleanedText)\n",
        "\n",
        "AllDevLabels=[]\n",
        "for i in range(len(val_data)):\n",
        "    TempLabels=[]\n",
        "    for j in range(len(val_data[i]['annotations'][0]['result'])):\n",
        "        TempLabels.append(val_data[i]['annotations'][0]['result'][j]['value']['labels'][0])\n",
        "    AllDevLabels.append(TempLabels)\n",
        "\n",
        "for i in range(len(AllDevLabels)):\n",
        "    for j in range(len(AllDevLabels[i])):\n",
        "        AllDevLabels[i][j]=AllDevLabels[i][j].lower()\n",
        "\n",
        "print(\"After cleaning, total number of samples in validation data (documentwise): \", len(CleanedDevText))\n",
        "print(\"After cleaning, total number of labels in validation data (documentwise): \", len(AllDevLabels))\n",
        "\n",
        "SentwiseCleanedDevText=[]\n",
        "for i in range(len(CleanedDevText)):\n",
        "  for j in range(len(CleanedDevText[i])):\n",
        "      SentwiseCleanedDevText.append(CleanedDevText[i][j])\n",
        "\n",
        "SentwiseDevLabels=[]\n",
        "for i in range(len(AllDevLabels)):\n",
        "  for j in range(len(AllDevLabels[i])):\n",
        "      SentwiseDevLabels.append(AllDevLabels[i][j])\n",
        "\n",
        "print(\"Total number of sentences in Validation data: \", len(SentwiseCleanedDevText))\n",
        "print(\"Total number of labels in validation data: \", len(SentwiseDevLabels))"
      ]
    },
    {
      "cell_type": "code",
      "source": [
        "f = open(\"/content/drive/MyDrive/LegalNERDatasets/NER_TEST/NER_TEST_JUDGEMENT.json\")\n",
        "\n",
        "Test_data = json.load(f)\n",
        "print(\"Total Test samples provided by the organizers: \", len(Test_data))\n",
        "\n",
        "TestText=[]\n",
        "for i in range(len(Test_data)):\n",
        "    TempText=[]\n",
        "    for j in range(len(Test_data[i]['annotations'][0]['result'])):\n",
        "        TempText.append(Test_data[i]['annotations'][0]['result'][j]['value']['text'])\n",
        "    TestText.append(TempText)\n",
        "\n",
        "\n",
        "CleanedTestText=[]\n",
        "for i in range(len(TestText)):\n",
        "    TempCleanedText=[]\n",
        "    for j in range(len(TestText[i])):\n",
        "        TestText[i][j]=TestText[i][j].replace(\"\\n\",\" \")\n",
        "        TestText[i][j]=re.sub('\\s+',' ',TestText[i][j])\n",
        "        TestText[i][j]=TestText[i][j].lower()\n",
        "        TempCleanedText.append(TestText[i][j])\n",
        "    CleanedTestText.append(TempCleanedText)\n",
        "\n",
        "AllTestLabels=[]\n",
        "for i in range(len(Test_data)):\n",
        "    TempLabels=[]\n",
        "    for j in range(len(Test_data[i]['annotations'][0]['result'])):\n",
        "        TempLabels.append(Test_data[i]['annotations'][0]['result'][j]['value']['labels'][0])\n",
        "    AllTestLabels.append(TempLabels)\n",
        "\n",
        "for i in range(len(AllTestLabels)):\n",
        "    for j in range(len(AllTestLabels[i])):\n",
        "        AllTestLabels[i][j]=AllTestLabels[i][j].lower()\n",
        "\n",
        "print(\"After cleaning, total number of samples in test data (documentwise): \", len(CleanedTestText))\n",
        "print(\"After cleaning, total number of labels in test data (documentwise): \", len(AllTestLabels))\n",
        "\n",
        "SentwiseCleanedTestText=[]\n",
        "for i in range(len(CleanedTestText)):\n",
        "  for j in range(len(CleanedTestText[i])):\n",
        "      SentwiseCleanedTestText.append(CleanedTestText[i][j])\n",
        "\n",
        "SentwiseTestLabels=[]\n",
        "for i in range(len(AllTestLabels)):\n",
        "  for j in range(len(AllTestLabels[i])):\n",
        "      SentwiseTestLabels.append(AllTestLabels[i][j])\n",
        "\n",
        "print(\"Total number of sentences in test data: \", len(SentwiseCleanedTestText))\n",
        "print(\"Total number of labels in test data: \", len(SentwiseTestLabels))"
      ],
      "metadata": {
        "colab": {
          "base_uri": "https://localhost:8080/"
        },
        "id": "48sPJHWL6ZP0",
        "outputId": "eff4088d-9b09-401a-864d-7c9da0a3457c"
      },
      "execution_count": null,
      "outputs": [
        {
          "output_type": "stream",
          "name": "stdout",
          "text": [
            "Total Test samples provided by the organizers:  4060\n",
            "After cleaning, total number of samples in test data (documentwise):  4060\n",
            "After cleaning, total number of labels in test data (documentwise):  4060\n",
            "Total number of sentences in test data:  8718\n",
            "Total number of labels in test data:  8718\n"
          ]
        }
      ]
    },
    {
      "cell_type": "code",
      "execution_count": null,
      "metadata": {
        "id": "INfC3Iek1-FG"
      },
      "outputs": [],
      "source": [
        "encoded_labels=[]\n",
        "from sklearn.preprocessing import LabelEncoder\n",
        "\n",
        "label_enc= LabelEncoder()\n",
        "label_enc.fit(SentwiseLabels)\n",
        "\n",
        "y_tr=label_enc.transform(SentwiseLabels)\n",
        "y_val=LabelEncoder().fit_transform(SentwiseDevLabels)\n",
        "y_test=LabelEncoder().fit_transform(SentwiseTestLabels)"
      ]
    },
    {
      "cell_type": "code",
      "source": [
        "def numpyarray(sent):\n",
        "  # print('o')\n",
        "  granola_ids = tokenizer.encode(sent, max_length=1000)\n",
        "  granola_ids = torch.LongTensor(granola_ids)\n",
        "  granola_ids = granola_ids.to(device)\n",
        "  # print(granola_ids.shape)\n",
        "  bert_model.eval()\n",
        "  # print('o')\n",
        "  granola_ids = granola_ids.unsqueeze(0)\n",
        "  # print(granola_ids.shape)\n",
        "  with torch.no_grad():\n",
        "    out = bert_model(input_ids=granola_ids)\n",
        "    # print(out[1].shape)\n",
        "  hidden_states = out[2]\n",
        "  sentence_embedding = torch.mean(hidden_states[-1], dim=1).squeeze()\n",
        "  # print(sentence_embedding.shape)\n",
        "  np_tensor = sentence_embedding.cpu().numpy()\n",
        "  return np_tensor"
      ],
      "metadata": {
        "id": "4tAvfAAvuOnM"
      },
      "execution_count": null,
      "outputs": []
    },
    {
      "cell_type": "markdown",
      "metadata": {
        "id": "iw75LEfoTtUC"
      },
      "source": [
        "With the help of code given below, we are creating numerical vector of each sentence of a document. This block of code needs to be run for once. Once we have csv file containing the numerical vectors along with their labels, we can utilize this while training."
      ]
    },
    {
      "cell_type": "code",
      "execution_count": null,
      "metadata": {
        "colab": {
          "base_uri": "https://localhost:8080/"
        },
        "id": "7sMNS5-Pb012",
        "outputId": "110aba30-5718-4554-aeb3-a2cb1bd3aa80"
      },
      "outputs": [
        {
          "output_type": "stream",
          "name": "stdout",
          "text": [
            "0\n",
            "1000\n",
            "2000\n",
            "3000\n",
            "4000\n",
            "5000\n",
            "6000\n",
            "7000\n",
            "8000\n",
            "9000\n",
            "10000\n",
            "11000\n",
            "12000\n",
            "0\n",
            "1000\n",
            "0\n",
            "1000\n",
            "2000\n",
            "3000\n",
            "4000\n"
          ]
        }
      ],
      "source": [
        "import csv\n",
        "import numpy as np\n",
        "for j in range(len(SentwiseCleanedText)):\n",
        "\n",
        "\tif j%1000==0:\n",
        "\t\tprint(j)\n",
        "\twith open('/content/drive/MyDrive/LegalNERDatasets/NER_TRAIN/train_embeddings_LB.csv', 'a+', newline='',encoding='utf-8') as write_obj:\n",
        "\t\t# Create a writer object from csv module\n",
        "\t\tcsv_writer = csv.writer(write_obj, quoting= csv.QUOTE_NONNUMERIC)\n",
        "\t\t# Add contents of list as last row in the csv file\n",
        "\t\tcsv_writer.writerow(np.append(numpyarray(SentwiseCleanedText[j]),[SentwiseLabels[j]]))\n",
        "\n",
        "\twrite_obj.close()\n",
        "\n",
        "for j in range(len(SentwiseCleanedDevText)):\n",
        "\n",
        "\tif j%1000==0:\n",
        "\t\tprint(j)\n",
        "\twith open('/content/drive/MyDrive/LegalNERDatasets/NER_DEV/val_embeddings_LB.csv', 'a+', newline='',encoding='utf-8') as write_obj:\n",
        "\t\t# Create a writer object from csv module\n",
        "\t\tcsv_writer = csv.writer(write_obj, quoting= csv.QUOTE_NONNUMERIC)\n",
        "\t\t# Add contents of list as last row in the csv file\n",
        "\t\tcsv_writer.writerow(np.append(numpyarray(SentwiseCleanedDevText[j]),[SentwiseDevLabels[j]]))\n",
        "\n",
        "\twrite_obj.close()\n",
        "\n",
        "for j in range(len(SentwiseCleanedTestText)):\n",
        "\n",
        "\tif j%1000==0:\n",
        "\t\tprint(j)\n",
        "\twith open('/content/drive/MyDrive/LegalNERDatasets/NER_TEST/test_embeddings_LB.csv', 'a+', newline='',encoding='utf-8') as write_obj:\n",
        "\t\t# Create a writer object from csv module\n",
        "\t\tcsv_writer = csv.writer(write_obj, quoting= csv.QUOTE_NONNUMERIC)\n",
        "\t\t# Add contents of list as last row in the csv file\n",
        "\t\tcsv_writer.writerow(np.append(numpyarray(SentwiseCleanedTestText[j]),[SentwiseTestLabels[j]]))\n",
        "\n",
        "\twrite_obj.close()"
      ]
    },
    {
      "cell_type": "code",
      "execution_count": null,
      "metadata": {
        "colab": {
          "base_uri": "https://localhost:8080/",
          "height": 454
        },
        "id": "TKoWEEjkU46p",
        "outputId": "f36f3cd4-1f89-4ff2-9e88-1f6066ee9ba7"
      },
      "outputs": [
        {
          "output_type": "display_data",
          "data": {
            "text/plain": [
              "<Figure size 1000x400 with 1 Axes>"
            ],
            "image/png": "[encoded data removed]"
          },
          "metadata": {}
        }
      ],
      "source": [
        "import numpy as np\n",
        "import matplotlib.pyplot as plt\n",
        "\n",
        "data={'COURT':1293,'PETITIONER':464 ,'RESPONDENT':324,'JUDGE':567,'DATE':1885, 'ORG':1441, 'GPE':1398,\n",
        "'STATUTE':1804, 'PROVISION':2384,'PRECEDENT':1351, 'CASE_NUMBER':1040, 'WITNESS':881, 'OTHER_PERSON':2653}\n",
        "\n",
        "# data = {'Baseline': 0.6160, 'Model1':0.7419, 'Model2':0.725,'Model3':0.7368, 'Model4':0.7201}\n",
        "labels = list(data.keys())\n",
        "freqs = list(data.values())\n",
        "\n",
        "fig = plt.figure(figsize = (10,4))\n",
        "\n",
        "plt.rcParams['font.family'] = 'serif'\n",
        "plt.rcParams['font.serif'] = ['Times New Roman'] + plt.rcParams['font.serif']\n",
        "# plt.rcParams.update({'font.family':'DejaVu Serif'})\n",
        "# creating the bar plot\n",
        "plt.bar(labels, freqs, color ='#20B2AA',edgecolor= 'black', width = 0.3)\n",
        "\n",
        "plt.xlabel(\"Labels\", fontsize=16)\n",
        "plt.ylabel(\"Frequency\",fontsize=16)\n",
        "plt.xticks(fontsize=12)\n",
        "plt.yticks(fontsize=12)\n",
        "# plt.ylim(ymin=150,ymax=10900)\n",
        "fig.autofmt_xdate()\n",
        "\n",
        "plt.show()\n",
        "\n",
        "# plt.title(\"Students enrolled in different courses\")\n",
        "# plt.savefig('Freq.eps', format='eps',bbox_inches='tight')"
      ]
    },
    {
      "cell_type": "code",
      "execution_count": null,
      "metadata": {
        "id": "Y4W3E5fJmIob"
      },
      "outputs": [],
      "source": [
        "# label_dict= {0: 'CASE_NUMBER', 1: 'COURT', 2:'DATE', 3: 'GPE',\n",
        "#              4: 'JUDGE',5:'ORG',6:'OTHER_PERSON',7: 'PETITIONER', 8:'PRECEDENT',\n",
        "#              9:'PROVISION', 10: 'RESPONDENT', 11: 'STATUTE', 12: 'WITNESS'}"
      ]
    },
    {
      "cell_type": "markdown",
      "metadata": {
        "id": "zn7ovQydVuu_"
      },
      "source": [
        "The code below gives the weight to each of the class. One can utilize this to somehow deal with the problem of class imbalance. In our baseline model, we did not use it because we did not observe much improvement."
      ]
    },
    {
      "cell_type": "code",
      "execution_count": null,
      "metadata": {
        "colab": {
          "base_uri": "https://localhost:8080/"
        },
        "id": "oVC7Nnl6f3of",
        "outputId": "9a54d796-8d43-4ac0-da75-331ff91e7e04"
      },
      "outputs": [
        {
          "output_type": "stream",
          "name": "stdout",
          "text": [
            "17485\n",
            "{0: 2.2751011074645944, 1: 3.298557176938084, 2: 3.6567694001957025, 3: 3.0984731638042886, 4: 9.44059458252544, 5: 1.8983811193320372, 6: 2.1668082646805455, 7: 2.1970816078599587, 8: 1.9422787117584588, 9: 1.6636401792029984, 10: 2.2312543259225306, 11: 2.4926575139104714, 12: 2.658402526518649, 13: 1.5567713676332873}\n"
          ]
        }
      ],
      "source": [
        "import numpy as np\n",
        "import math\n",
        "\n",
        "# labels_dict : {ind_label: count_label}\n",
        "# mu : parameter to tune\n",
        "\n",
        "def create_class_weight(labels_dict,mu=0.72):\n",
        "    total = np.sum(list(labels_dict.values()))\n",
        "    print(total)\n",
        "    keys = labels_dict.keys()\n",
        "    class_weight = dict()\n",
        "\n",
        "    for key in keys:\n",
        "        score = math.log(mu*total/float(labels_dict[key]+1))\n",
        "        class_weight[key] = score if score > 1.0 else 1.0\n",
        "\n",
        "    return class_weight\n",
        "\n",
        "# random labels_dict\n",
        "labels_dict = {0 :1040, 1 :1293 , 2 :1885, 3 :1398 , 4 :567 , 5 :1441, 6 :2653, 7 :464,\n",
        "8 :1351, 9 :2384, 10 :1351, 11 :324, 12 :1804, 13 :881}\n",
        "\n",
        "class_weights=create_class_weight(labels_dict)\n",
        "print(class_weights)"
      ]
    },
    {
      "cell_type": "code",
      "execution_count": null,
      "metadata": {
        "id": "VzIaUEu3geXp"
      },
      "outputs": [],
      "source": [
        "df=pd.read_csv('/content/drive/MyDrive/LegalNERDatasets/NER_TRAIN/train_embeddings_ILB.csv',header=None)\n",
        "# Y = df[768].tolist()\n",
        "df.drop(768, axis=1, inplace=True)\n",
        "df=df.values.tolist()"
      ]
    },
    {
      "cell_type": "code",
      "execution_count": null,
      "metadata": {
        "id": "tPB2b5Hvd_Uc"
      },
      "outputs": [],
      "source": [
        "df_val=pd.read_csv('/content/drive/MyDrive/LegalNERDatasets/NER_DEV/val_embeddings_ILB.csv',header=None)\n",
        "# Y_val = df_val[768].tolist()\n",
        "df_val.drop(768, axis=1, inplace=True)\n",
        "df_val=df_val.values.tolist()"
      ]
    },
    {
      "cell_type": "code",
      "source": [
        "df_test=pd.read_csv('/content/drive/MyDrive/LegalNERDatasets/NER_TEST/test_embeddings_ILB.csv',header=None)\n",
        "# Y_test = df_test[768].tolist()\n",
        "df_test.drop(768, axis=1, inplace=True)\n",
        "df_test=df_test.values.tolist()"
      ],
      "metadata": {
        "id": "gFDPf18M-IMw"
      },
      "execution_count": null,
      "outputs": []
    },
    {
      "cell_type": "code",
      "execution_count": null,
      "metadata": {
        "colab": {
          "base_uri": "https://localhost:8080/"
        },
        "id": "bj9TpjfS8V7L",
        "outputId": "bead0857-e645-4724-b989-75a823214b78"
      },
      "outputs": [
        {
          "output_type": "stream",
          "name": "stdout",
          "text": [
            "(17485, 768)\n",
            "(1876, 768)\n",
            "(8718, 768)\n",
            "(17485,)\n",
            "(1876,)\n",
            "(8718,)\n"
          ]
        }
      ],
      "source": [
        "df=np.asarray(df)\n",
        "df_val=np.asarray(df_val)\n",
        "df_test=np.asarray(df_test)\n",
        "print(df.shape)\n",
        "print(df_val.shape)\n",
        "print(df_test.shape)\n",
        "print(y_tr.shape)\n",
        "print(y_val.shape)\n",
        "print(y_test.shape)\n"
      ]
    },
    {
      "cell_type": "markdown",
      "metadata": {
        "id": "WjrqKyhsWdJe"
      },
      "source": [
        "*Multi-layer perceptron (MLP) model utilize for training*"
      ]
    },
    {
      "cell_type": "code",
      "execution_count": null,
      "metadata": {
        "id": "v-MIa7AE6XTv"
      },
      "outputs": [],
      "source": [
        "inputA= Input(shape=(df.shape[1],))\n",
        "x=  Dense(2048, activation=\"relu\")(inputA)\n",
        "x=Dropout(0.6)(x)\n",
        "x=Dense(1024,activation=\"relu\")(x)\n",
        "x=Dropout(0.6)(x)\n",
        "x=Dense(units=13, activation='softmax')(x)\n",
        "model= Model(input=inputA,output=x)\n",
        "model.compile(optimizer=tf.keras.optimizers.Adam(learning_rate=0.001, beta_1=0.9, beta_2=0.999, epsilon=1e-07), loss=\"sparse_categorical_crossentropy\", metrics = ['accuracy'])\n",
        "model.summary()"
      ]
    },
    {
      "cell_type": "code",
      "execution_count": null,
      "metadata": {
        "id": "XFZwwpWM6na-"
      },
      "outputs": [],
      "source": [
        "es = EarlyStopping(monitor='val_loss', mode='min', verbose=1, patience=100, restore_best_weights=True)\n",
        "history=model.fit(df, y_tr, validation_data=(df_val,y_val),epochs =5,callbacks=[es], batch_size= 32, class_weight=class_weights)"
      ]
    },
    {
      "cell_type": "code",
      "execution_count": null,
      "metadata": {
        "colab": {
          "base_uri": "https://localhost:8080/"
        },
        "id": "ov3ZKJ5E6waE",
        "outputId": "24a892ca-c99e-4419-c420-a6d3196471de"
      },
      "outputs": [
        {
          "output_type": "stream",
          "name": "stderr",
          "text": [
            "/usr/local/lib/python3.10/dist-packages/keras/src/engine/training.py:3103: UserWarning: You are saving your model as an HDF5 file via `model.save()`. This file format is considered legacy. We recommend using instead the native Keras format, e.g. `model.save('my_model.keras')`.\n",
            "  saving_api.save_model(\n"
          ]
        }
      ],
      "source": [
        "model.save('/content/drive/My Drive/BertModels/CustomInLawBert.h5')"
      ]
    },
    {
      "cell_type": "code",
      "execution_count": null,
      "metadata": {
        "id": "jtNlEtQN_lE8"
      },
      "outputs": [],
      "source": [
        "import keras\n",
        "model=keras.models.load_model('/content/drive/My Drive/BertModels/CaseInLawBert.h5')"
      ]
    },
    {
      "cell_type": "code",
      "execution_count": null,
      "metadata": {
        "colab": {
          "base_uri": "https://localhost:8080/"
        },
        "id": "MYCQLQ6WZ-ns",
        "outputId": "d41c0b8f-33cd-4b66-d147-c6d00b1e3c08"
      },
      "outputs": [
        {
          "output_type": "stream",
          "name": "stdout",
          "text": [
            "273/273 [==============================] - 6s 21ms/step\n"
          ]
        },
        {
          "output_type": "execute_result",
          "data": {
            "text/plain": [
              "(8718,)"
            ]
          },
          "metadata": {},
          "execution_count": 125
        }
      ],
      "source": [
        "y_prob=model.predict(df_test)\n",
        "flat_pred=np.argmax(y_prob,axis=1)\n",
        "flat_pred.shape"
      ]
    },
    {
      "cell_type": "code",
      "execution_count": null,
      "metadata": {
        "colab": {
          "base_uri": "https://localhost:8080/"
        },
        "id": "i30nh0XIFJ9I",
        "outputId": "ecff0e87-7a0b-4eab-c372-eac2281de54b"
      },
      "outputs": [
        {
          "output_type": "stream",
          "name": "stdout",
          "text": [
            "Classification Report:\n",
            "              precision    recall  f1-score   support\n",
            "\n",
            "           0     0.9865    0.9880    0.9872       666\n",
            "           1     0.9625    0.9784    0.9703       786\n",
            "           2     0.9973    0.9982    0.9978      1111\n",
            "           3     0.7698    0.9039    0.8315       614\n",
            "           4     0.2381    0.1515    0.1852        66\n",
            "           5     0.8031    0.9315    0.8625       788\n",
            "           6     0.8593    0.5589    0.6773      1705\n",
            "           7     0.0000    0.0000    0.0000        10\n",
            "           8     0.9846    0.9682    0.9764       661\n",
            "           9     0.9959    0.9975    0.9967      1218\n",
            "          10     0.0000    0.0000    0.0000         4\n",
            "          11     0.9774    0.9754    0.9764       977\n",
            "          12     0.0823    0.3036    0.1295       112\n",
            "\n",
            "    accuracy                         0.8752      8718\n",
            "   macro avg     0.6659    0.6735    0.6608      8718\n",
            "weighted avg     0.9103    0.8752    0.8848      8718\n",
            "\n",
            "0.8752007341133288\n"
          ]
        }
      ],
      "source": [
        "from sklearn.metrics import accuracy_score, classification_report, confusion_matrix\n",
        "print('Classification Report:')\n",
        "print(classification_report(flat_pred, y_test, digits=4))\n",
        "from sklearn import metrics\n",
        "print(metrics.accuracy_score(y_test, flat_pred))"
      ]
    },
    {
      "cell_type": "code",
      "source": [
        "from sklearn.metrics import confusion_matrix\n",
        "import matplotlib.pyplot as plt\n",
        "\n",
        "# Assuming you have your true labels (y_true) and predicted labels (y_pred)\n",
        "\n",
        "# Create the confusion matrix\n",
        "cm = confusion_matrix(y_test, flat_pred)\n",
        "label_dict= ['CASE_NUMBER', 'COURT', 'DATE', 'GPE',\n",
        "             'JUDGE','ORG','OTHER_PERSON','PETITIONER', 'PRECEDENT',\n",
        "             'PROVISION', 'RESPONDENT', 'STATUTE', 'WITNESS']\n",
        "# Normalize the confusion matrix (optional)\n",
        "# This displays the percentage of true labels for each predicted class\n",
        "# cm_norm = cm.astype('float') / cm.sum(axis=1)[:, np.newaxis]\n",
        "\n",
        "# Plot the confusion matrix\n",
        "plt.figure(figsize=(10, 7))\n",
        "plt.imshow(cm, cmap='Blues')  # You can choose other colormaps like 'Greens' or 'YlOrBr'\n",
        "plt.colorbar(label='Number of samples')\n",
        "\n",
        "# Print class labels on x and y axes\n",
        "class_names = [label_dict[i] for i in range(len(cm))]  # Assuming your classes are numbered 0 to len(cm)-1\n",
        "plt.xticks(range(len(class_names)), class_names, rotation=45)\n",
        "plt.yticks(range(len(class_names)), class_names)\n",
        "\n",
        "# Plot formatting\n",
        "plt.grid(False)\n",
        "plt.title('Confusion Matrix')\n",
        "plt.xlabel('Predicted Label')\n",
        "plt.ylabel('True Label')\n",
        "\n",
        "# Print values inside the confusion matrix cells\n",
        "for i in range(len(cm)):\n",
        "    for j in range(len(cm)):\n",
        "        plt.text(j, i, cm[i, j], ha='center', va='center')\n",
        "\n",
        "plt.tight_layout()\n",
        "plt.show()\n"
      ],
      "metadata": {
        "colab": {
          "base_uri": "https://localhost:8080/",
          "height": 555
        },
        "id": "uc0s6Xj1wGkX",
        "outputId": "46e5a5a8-4a3f-4c03-8efb-1fb63ed1cebc"
      },
      "execution_count": null,
      "outputs": [
        {
          "output_type": "display_data",
          "data": {
            "text/plain": [
              "<Figure size 1000x700 with 2 Axes>"
            ],
            "image/png": "[encoded data removed]"
          },
          "metadata": {}
        }
      ]
    },
    {
      "cell_type": "code",
      "execution_count": null,
      "metadata": {
        "id": "1_ENS3b1M2CH"
      },
      "outputs": [],
      "source": [
        "from sklearn.metrics import f1_score\n",
        "from sklearn.metrics import recall_score\n",
        "from sklearn.metrics import precision_score\n",
        "\n",
        "print(precision_score(y_val,flat_pred, average='weighted'))\n",
        "print(recall_score(y_val,flat_pred, average='weighted'))\n",
        "print(f1_score(y_val,flat_pred, average='weighted'))\n",
        "\n",
        "print(precision_score(y_val,flat_pred, average='micro'))\n",
        "print(recall_score(y_val,flat_pred, average='micro'))\n",
        "print(f1_score(y_val,flat_pred, average='micro'))\n",
        "\n",
        "print(precision_score(y_val,flat_pred, average='macro'))\n",
        "print(recall_score(y_val,flat_pred, average='macro'))\n",
        "print(f1_score(y_val,flat_pred, average='macro'))\n"
      ]
    },
    {
      "cell_type": "markdown",
      "metadata": {
        "id": "LIaRBxx3bIav"
      },
      "source": [
        "During testing phase, we utilized the code written below in order to make a submission."
      ]
    },
    {
      "cell_type": "code",
      "execution_count": null,
      "metadata": {
        "id": "S4_V8VFKi3Lq"
      },
      "outputs": [],
      "source": [
        "#For creating the document wise embeddings.\n",
        "def bert_embeds(doc):\n",
        "\n",
        "  np_tensor=[]\n",
        "  for i in range(len(doc)):\n",
        "\n",
        "    granola_ids = tokenizer.encode(doc[i], max_length=100)\n",
        "    granola_ids = torch.LongTensor(granola_ids)\n",
        "    granola_ids = granola_ids.to(device)\n",
        "    bert_model.eval()\n",
        "    granola_ids = granola_ids.unsqueeze(0)\n",
        "    with torch.no_grad():\n",
        "      out = bert_model(input_ids=granola_ids)\n",
        "    hidden_states = out[2]\n",
        "    sentence_embedding = torch.mean(hidden_states[-1], dim=1).squeeze()\n",
        "    np_tensor.append(sentence_embedding.cpu().numpy())\n",
        "  return np_tensor"
      ]
    },
    {
      "cell_type": "code",
      "execution_count": null,
      "metadata": {
        "id": "AyFXJmYFkby8"
      },
      "outputs": [],
      "source": [
        "\n",
        "import re\n",
        "from sklearn.metrics import precision_recall_fscore_support\n",
        "def pred_probs(doc):\n",
        "    bert_embedding=bert_embeds(doc)\n",
        "#     print(bert_embedding[0].shape)\n",
        "    y_prob=model.predict(np.asarray(bert_embedding))\n",
        "    flat_pred=np.argmax(y_prob,axis=1).flatten()\n",
        "    flat_pred_list= flat_pred.tolist()\n",
        "    # label_list=[]\n",
        "    # for key in flat_pred_list:\n",
        "    #     label_list.append(label_dict[key])\n",
        "    y_pred_string =label_enc.inverse_transform(flat_pred)\n",
        "    label= y_pred_string.tolist()\n",
        "\n",
        "# print(label)\n",
        "\n",
        "    return label\n",
        "\n"
      ]
    },
    {
      "cell_type": "code",
      "execution_count": null,
      "metadata": {
        "id": "3BQUUlGkkP1r",
        "colab": {
          "base_uri": "https://localhost:8080/"
        },
        "outputId": "9fe53e27-7033-48ff-c031-180f50385ac1"
      },
      "outputs": [
        {
          "output_type": "stream",
          "name": "stdout",
          "text": [
            "1/1 [==============================] - 0s 34ms/step\n"
          ]
        },
        {
          "output_type": "execute_result",
          "data": {
            "text/plain": [
              "['court']"
            ]
          },
          "metadata": {},
          "execution_count": 41
        }
      ],
      "source": [
        "# total_prob=[]\n",
        "# for i in range(10):\n",
        "#     print(i)\n",
        "#     print(CleanedTestText[i])\n",
        "#     total_prob.append(pred_probs(CleanedTestText[i]))\n",
        "pred_probs(['Constitution Bench'])"
      ]
    },
    {
      "cell_type": "code",
      "source": [],
      "metadata": {
        "id": "7WJo2wCJPqse"
      },
      "execution_count": null,
      "outputs": []
    }
  ],
  "metadata": {
    "accelerator": "GPU",
    "colab": {
      "gpuType": "T4",
      "provenance": []
    },
    "kernelspec": {
      "display_name": "Python 3",
      "name": "python3"
    },
    "language_info": {
      "name": "python"
    }
  },
  "nbformat": 4,
  "nbformat_minor": 0
}
